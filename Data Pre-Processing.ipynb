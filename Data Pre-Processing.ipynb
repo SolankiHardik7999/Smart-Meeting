{
 "cells": [
  {
   "cell_type": "code",
   "execution_count": 2,
   "id": "9316b6ec",
   "metadata": {},
   "outputs": [],
   "source": [
    "import pandas as pd\n",
    "import numpy as np\n",
    "from nltk.corpus import stopwords, wordnet\n",
    "from nltk.stem import PorterStemmer \n",
    "from nltk.tokenize import word_tokenize \n",
    "import re\n",
    "from string import punctuation"
   ]
  },
  {
   "cell_type": "code",
   "execution_count": 3,
   "id": "679fdcce",
   "metadata": {},
   "outputs": [],
   "source": [
    "import warnings\n",
    "warnings.filterwarnings(\"ignore\")"
   ]
  },
  {
   "cell_type": "code",
   "execution_count": 4,
   "id": "40b6c616",
   "metadata": {},
   "outputs": [],
   "source": [
    "data = pd.read_csv('All_Data.csv')"
   ]
  },
  {
   "cell_type": "code",
   "execution_count": 5,
   "id": "3b4dc9cf",
   "metadata": {},
   "outputs": [
    {
     "data": {
      "text/html": [
       "<div>\n",
       "<style scoped>\n",
       "    .dataframe tbody tr th:only-of-type {\n",
       "        vertical-align: middle;\n",
       "    }\n",
       "\n",
       "    .dataframe tbody tr th {\n",
       "        vertical-align: top;\n",
       "    }\n",
       "\n",
       "    .dataframe thead th {\n",
       "        text-align: right;\n",
       "    }\n",
       "</style>\n",
       "<table border=\"1\" class=\"dataframe\">\n",
       "  <thead>\n",
       "    <tr style=\"text-align: right;\">\n",
       "      <th></th>\n",
       "      <th>Unnamed: 0</th>\n",
       "      <th>Title</th>\n",
       "      <th>Transcript</th>\n",
       "    </tr>\n",
       "  </thead>\n",
       "  <tbody>\n",
       "    <tr>\n",
       "      <th>0</th>\n",
       "      <td>0</td>\n",
       "      <td>1. Introduction and Scope</td>\n",
       "      <td>PATRICK WINSTON: Welcome\\nto 6034. I don't kno...</td>\n",
       "    </tr>\n",
       "    <tr>\n",
       "      <th>1</th>\n",
       "      <td>1</td>\n",
       "      <td>2. Reasoning: Goal Trees and Problem Solving</td>\n",
       "      <td>What we're going to\\ntalk about today, is goal...</td>\n",
       "    </tr>\n",
       "    <tr>\n",
       "      <th>2</th>\n",
       "      <td>2</td>\n",
       "      <td>3. Reasoning: Goal Trees and Rule-Based Expert...</td>\n",
       "      <td>PROFESSOR PATRICK WINSTON:\\nLadies and gentlem...</td>\n",
       "    </tr>\n",
       "    <tr>\n",
       "      <th>3</th>\n",
       "      <td>3</td>\n",
       "      <td>4. Search: Depth-First, Hill Climbing, Beam</td>\n",
       "      <td>PATRICK WINSTON: Today\\nwe're going to be talk...</td>\n",
       "    </tr>\n",
       "    <tr>\n",
       "      <th>4</th>\n",
       "      <td>4</td>\n",
       "      <td>5. Search: Optimal, Branch and Bound, A*</td>\n",
       "      <td>PROFESSOR: It was written about\\nRoute 66, whi...</td>\n",
       "    </tr>\n",
       "  </tbody>\n",
       "</table>\n",
       "</div>"
      ],
      "text/plain": [
       "   Unnamed: 0                                              Title  \\\n",
       "0           0                          1. Introduction and Scope   \n",
       "1           1       2. Reasoning: Goal Trees and Problem Solving   \n",
       "2           2  3. Reasoning: Goal Trees and Rule-Based Expert...   \n",
       "3           3        4. Search: Depth-First, Hill Climbing, Beam   \n",
       "4           4           5. Search: Optimal, Branch and Bound, A*   \n",
       "\n",
       "                                          Transcript  \n",
       "0  PATRICK WINSTON: Welcome\\nto 6034. I don't kno...  \n",
       "1  What we're going to\\ntalk about today, is goal...  \n",
       "2  PROFESSOR PATRICK WINSTON:\\nLadies and gentlem...  \n",
       "3  PATRICK WINSTON: Today\\nwe're going to be talk...  \n",
       "4  PROFESSOR: It was written about\\nRoute 66, whi...  "
      ]
     },
     "execution_count": 5,
     "metadata": {},
     "output_type": "execute_result"
    }
   ],
   "source": [
    "data.head()"
   ]
  },
  {
   "cell_type": "code",
   "execution_count": 6,
   "id": "2b14930f",
   "metadata": {},
   "outputs": [],
   "source": [
    "data.drop('Unnamed: 0',axis=1,inplace=True)"
   ]
  },
  {
   "cell_type": "code",
   "execution_count": 7,
   "id": "f1504a28",
   "metadata": {},
   "outputs": [
    {
     "data": {
      "text/html": [
       "<div>\n",
       "<style scoped>\n",
       "    .dataframe tbody tr th:only-of-type {\n",
       "        vertical-align: middle;\n",
       "    }\n",
       "\n",
       "    .dataframe tbody tr th {\n",
       "        vertical-align: top;\n",
       "    }\n",
       "\n",
       "    .dataframe thead th {\n",
       "        text-align: right;\n",
       "    }\n",
       "</style>\n",
       "<table border=\"1\" class=\"dataframe\">\n",
       "  <thead>\n",
       "    <tr style=\"text-align: right;\">\n",
       "      <th></th>\n",
       "      <th>Title</th>\n",
       "      <th>Transcript</th>\n",
       "    </tr>\n",
       "  </thead>\n",
       "  <tbody>\n",
       "    <tr>\n",
       "      <th>0</th>\n",
       "      <td>1. Introduction and Scope</td>\n",
       "      <td>PATRICK WINSTON: Welcome\\nto 6034. I don't kno...</td>\n",
       "    </tr>\n",
       "    <tr>\n",
       "      <th>1</th>\n",
       "      <td>2. Reasoning: Goal Trees and Problem Solving</td>\n",
       "      <td>What we're going to\\ntalk about today, is goal...</td>\n",
       "    </tr>\n",
       "    <tr>\n",
       "      <th>2</th>\n",
       "      <td>3. Reasoning: Goal Trees and Rule-Based Expert...</td>\n",
       "      <td>PROFESSOR PATRICK WINSTON:\\nLadies and gentlem...</td>\n",
       "    </tr>\n",
       "    <tr>\n",
       "      <th>3</th>\n",
       "      <td>4. Search: Depth-First, Hill Climbing, Beam</td>\n",
       "      <td>PATRICK WINSTON: Today\\nwe're going to be talk...</td>\n",
       "    </tr>\n",
       "    <tr>\n",
       "      <th>4</th>\n",
       "      <td>5. Search: Optimal, Branch and Bound, A*</td>\n",
       "      <td>PROFESSOR: It was written about\\nRoute 66, whi...</td>\n",
       "    </tr>\n",
       "  </tbody>\n",
       "</table>\n",
       "</div>"
      ],
      "text/plain": [
       "                                               Title  \\\n",
       "0                          1. Introduction and Scope   \n",
       "1       2. Reasoning: Goal Trees and Problem Solving   \n",
       "2  3. Reasoning: Goal Trees and Rule-Based Expert...   \n",
       "3        4. Search: Depth-First, Hill Climbing, Beam   \n",
       "4           5. Search: Optimal, Branch and Bound, A*   \n",
       "\n",
       "                                          Transcript  \n",
       "0  PATRICK WINSTON: Welcome\\nto 6034. I don't kno...  \n",
       "1  What we're going to\\ntalk about today, is goal...  \n",
       "2  PROFESSOR PATRICK WINSTON:\\nLadies and gentlem...  \n",
       "3  PATRICK WINSTON: Today\\nwe're going to be talk...  \n",
       "4  PROFESSOR: It was written about\\nRoute 66, whi...  "
      ]
     },
     "execution_count": 7,
     "metadata": {},
     "output_type": "execute_result"
    }
   ],
   "source": [
    "data.head()"
   ]
  },
  {
   "cell_type": "markdown",
   "id": "6b76ad4f",
   "metadata": {},
   "source": [
    "## Text Pre-Processing"
   ]
  },
  {
   "cell_type": "markdown",
   "id": "0829221c",
   "metadata": {},
   "source": [
    "#### Converting Data To LowerCase"
   ]
  },
  {
   "cell_type": "code",
   "execution_count": 8,
   "id": "9c7a981c",
   "metadata": {},
   "outputs": [],
   "source": [
    "data['Transcript'] = data['Transcript'].apply(lambda x: ' '.join(x.lower() for x in x.split()))"
   ]
  },
  {
   "cell_type": "code",
   "execution_count": 9,
   "id": "ac15dd71",
   "metadata": {},
   "outputs": [
    {
     "data": {
      "text/html": [
       "<div>\n",
       "<style scoped>\n",
       "    .dataframe tbody tr th:only-of-type {\n",
       "        vertical-align: middle;\n",
       "    }\n",
       "\n",
       "    .dataframe tbody tr th {\n",
       "        vertical-align: top;\n",
       "    }\n",
       "\n",
       "    .dataframe thead th {\n",
       "        text-align: right;\n",
       "    }\n",
       "</style>\n",
       "<table border=\"1\" class=\"dataframe\">\n",
       "  <thead>\n",
       "    <tr style=\"text-align: right;\">\n",
       "      <th></th>\n",
       "      <th>Title</th>\n",
       "      <th>Transcript</th>\n",
       "    </tr>\n",
       "  </thead>\n",
       "  <tbody>\n",
       "    <tr>\n",
       "      <th>0</th>\n",
       "      <td>1. Introduction and Scope</td>\n",
       "      <td>patrick winston: welcome to 6034. i don't know...</td>\n",
       "    </tr>\n",
       "    <tr>\n",
       "      <th>1</th>\n",
       "      <td>2. Reasoning: Goal Trees and Problem Solving</td>\n",
       "      <td>what we're going to talk about today, is goals...</td>\n",
       "    </tr>\n",
       "    <tr>\n",
       "      <th>2</th>\n",
       "      <td>3. Reasoning: Goal Trees and Rule-Based Expert...</td>\n",
       "      <td>professor patrick winston: ladies and gentleme...</td>\n",
       "    </tr>\n",
       "    <tr>\n",
       "      <th>3</th>\n",
       "      <td>4. Search: Depth-First, Hill Climbing, Beam</td>\n",
       "      <td>patrick winston: today we're going to be talki...</td>\n",
       "    </tr>\n",
       "    <tr>\n",
       "      <th>4</th>\n",
       "      <td>5. Search: Optimal, Branch and Bound, A*</td>\n",
       "      <td>professor: it was written about route 66, whic...</td>\n",
       "    </tr>\n",
       "  </tbody>\n",
       "</table>\n",
       "</div>"
      ],
      "text/plain": [
       "                                               Title  \\\n",
       "0                          1. Introduction and Scope   \n",
       "1       2. Reasoning: Goal Trees and Problem Solving   \n",
       "2  3. Reasoning: Goal Trees and Rule-Based Expert...   \n",
       "3        4. Search: Depth-First, Hill Climbing, Beam   \n",
       "4           5. Search: Optimal, Branch and Bound, A*   \n",
       "\n",
       "                                          Transcript  \n",
       "0  patrick winston: welcome to 6034. i don't know...  \n",
       "1  what we're going to talk about today, is goals...  \n",
       "2  professor patrick winston: ladies and gentleme...  \n",
       "3  patrick winston: today we're going to be talki...  \n",
       "4  professor: it was written about route 66, whic...  "
      ]
     },
     "execution_count": 9,
     "metadata": {},
     "output_type": "execute_result"
    }
   ],
   "source": [
    "data.head()"
   ]
  },
  {
   "cell_type": "markdown",
   "id": "2a51ab77",
   "metadata": {},
   "source": [
    "#### StopWord Removal"
   ]
  },
  {
   "cell_type": "code",
   "execution_count": 10,
   "id": "c64131b6",
   "metadata": {},
   "outputs": [
    {
     "data": {
      "text/plain": [
       "['!',\n",
       " '\"',\n",
       " '#',\n",
       " '$',\n",
       " '%',\n",
       " '&',\n",
       " \"'\",\n",
       " '(',\n",
       " ')',\n",
       " '*',\n",
       " '+',\n",
       " ',',\n",
       " '-',\n",
       " '.',\n",
       " '/',\n",
       " ':',\n",
       " ';',\n",
       " '<',\n",
       " '=',\n",
       " '>',\n",
       " '?',\n",
       " '@',\n",
       " '[',\n",
       " '\\\\',\n",
       " ']',\n",
       " '^',\n",
       " '_',\n",
       " '`',\n",
       " '{',\n",
       " '|',\n",
       " '}',\n",
       " '~']"
      ]
     },
     "execution_count": 10,
     "metadata": {},
     "output_type": "execute_result"
    }
   ],
   "source": [
    "STOPWORDS = set(stopwords.words('english'))\n",
    "punctuation = list(punctuation)\n",
    "STOPWORDS.update(punctuation)\n",
    "punctuation"
   ]
  },
  {
   "cell_type": "code",
   "execution_count": 11,
   "id": "53970141",
   "metadata": {},
   "outputs": [
    {
     "data": {
      "text/plain": [
       "34890"
      ]
     },
     "execution_count": 11,
     "metadata": {},
     "output_type": "execute_result"
    }
   ],
   "source": [
    "len(data['Transcript'][0])"
   ]
  },
  {
   "cell_type": "code",
   "execution_count": 12,
   "id": "f0581df7",
   "metadata": {},
   "outputs": [],
   "source": [
    "data['Transcript_Without_Stopword']=data['Transcript'].apply(lambda x:' '.join([word for word in x.split() if word not in (STOPWORDS)]))"
   ]
  },
  {
   "cell_type": "code",
   "execution_count": 13,
   "id": "999aae76",
   "metadata": {},
   "outputs": [
    {
     "data": {
      "text/plain": [
       "22053"
      ]
     },
     "execution_count": 13,
     "metadata": {},
     "output_type": "execute_result"
    }
   ],
   "source": [
    "len(data['Transcript_Without_Stopword'][0])"
   ]
  },
  {
   "cell_type": "markdown",
   "id": "5ae08e8f",
   "metadata": {},
   "source": [
    "### Lemmatization"
   ]
  },
  {
   "cell_type": "code",
   "execution_count": 14,
   "id": "68783fae",
   "metadata": {},
   "outputs": [],
   "source": [
    "from nltk.stem import WordNetLemmatizer"
   ]
  },
  {
   "cell_type": "code",
   "execution_count": 15,
   "id": "f0dd5c97",
   "metadata": {},
   "outputs": [],
   "source": [
    "ps = WordNetLemmatizer()"
   ]
  },
  {
   "cell_type": "code",
   "execution_count": 16,
   "id": "d2527a18",
   "metadata": {},
   "outputs": [],
   "source": [
    "data['Transcript_Lemmantized'] = data['Transcript_Without_Stopword'].apply(lambda x: ' '.join([ps.lemmatize(word) for word in x.split()]))"
   ]
  },
  {
   "cell_type": "code",
   "execution_count": 17,
   "id": "de2f8206",
   "metadata": {},
   "outputs": [
    {
     "data": {
      "text/html": [
       "<div>\n",
       "<style scoped>\n",
       "    .dataframe tbody tr th:only-of-type {\n",
       "        vertical-align: middle;\n",
       "    }\n",
       "\n",
       "    .dataframe tbody tr th {\n",
       "        vertical-align: top;\n",
       "    }\n",
       "\n",
       "    .dataframe thead th {\n",
       "        text-align: right;\n",
       "    }\n",
       "</style>\n",
       "<table border=\"1\" class=\"dataframe\">\n",
       "  <thead>\n",
       "    <tr style=\"text-align: right;\">\n",
       "      <th></th>\n",
       "      <th>Title</th>\n",
       "      <th>Transcript</th>\n",
       "      <th>Transcript_Without_Stopword</th>\n",
       "      <th>Transcript_Lemmantized</th>\n",
       "    </tr>\n",
       "  </thead>\n",
       "  <tbody>\n",
       "    <tr>\n",
       "      <th>0</th>\n",
       "      <td>1. Introduction and Scope</td>\n",
       "      <td>patrick winston: welcome to 6034. i don't know...</td>\n",
       "      <td>patrick winston: welcome 6034. know deal micro...</td>\n",
       "      <td>patrick winston: welcome 6034. know deal micro...</td>\n",
       "    </tr>\n",
       "    <tr>\n",
       "      <th>1</th>\n",
       "      <td>2. Reasoning: Goal Trees and Problem Solving</td>\n",
       "      <td>what we're going to talk about today, is goals...</td>\n",
       "      <td>we're going talk today, goals. way little warm...</td>\n",
       "      <td>we're going talk today, goals. way little warm...</td>\n",
       "    </tr>\n",
       "    <tr>\n",
       "      <th>2</th>\n",
       "      <td>3. Reasoning: Goal Trees and Rule-Based Expert...</td>\n",
       "      <td>professor patrick winston: ladies and gentleme...</td>\n",
       "      <td>professor patrick winston: ladies gentlemen, e...</td>\n",
       "      <td>professor patrick winston: lady gentlemen, eng...</td>\n",
       "    </tr>\n",
       "    <tr>\n",
       "      <th>3</th>\n",
       "      <td>4. Search: Depth-First, Hill Climbing, Beam</td>\n",
       "      <td>patrick winston: today we're going to be talki...</td>\n",
       "      <td>patrick winston: today we're going talking sea...</td>\n",
       "      <td>patrick winston: today we're going talking sea...</td>\n",
       "    </tr>\n",
       "    <tr>\n",
       "      <th>4</th>\n",
       "      <td>5. Search: Optimal, Branch and Bound, A*</td>\n",
       "      <td>professor: it was written about route 66, whic...</td>\n",
       "      <td>professor: written route 66, used main highway...</td>\n",
       "      <td>professor: written route 66, used main highway...</td>\n",
       "    </tr>\n",
       "  </tbody>\n",
       "</table>\n",
       "</div>"
      ],
      "text/plain": [
       "                                               Title  \\\n",
       "0                          1. Introduction and Scope   \n",
       "1       2. Reasoning: Goal Trees and Problem Solving   \n",
       "2  3. Reasoning: Goal Trees and Rule-Based Expert...   \n",
       "3        4. Search: Depth-First, Hill Climbing, Beam   \n",
       "4           5. Search: Optimal, Branch and Bound, A*   \n",
       "\n",
       "                                          Transcript  \\\n",
       "0  patrick winston: welcome to 6034. i don't know...   \n",
       "1  what we're going to talk about today, is goals...   \n",
       "2  professor patrick winston: ladies and gentleme...   \n",
       "3  patrick winston: today we're going to be talki...   \n",
       "4  professor: it was written about route 66, whic...   \n",
       "\n",
       "                         Transcript_Without_Stopword  \\\n",
       "0  patrick winston: welcome 6034. know deal micro...   \n",
       "1  we're going talk today, goals. way little warm...   \n",
       "2  professor patrick winston: ladies gentlemen, e...   \n",
       "3  patrick winston: today we're going talking sea...   \n",
       "4  professor: written route 66, used main highway...   \n",
       "\n",
       "                              Transcript_Lemmantized  \n",
       "0  patrick winston: welcome 6034. know deal micro...  \n",
       "1  we're going talk today, goals. way little warm...  \n",
       "2  professor patrick winston: lady gentlemen, eng...  \n",
       "3  patrick winston: today we're going talking sea...  \n",
       "4  professor: written route 66, used main highway...  "
      ]
     },
     "execution_count": 17,
     "metadata": {},
     "output_type": "execute_result"
    }
   ],
   "source": [
    "data.head()"
   ]
  },
  {
   "cell_type": "code",
   "execution_count": 18,
   "id": "36f30ba2",
   "metadata": {},
   "outputs": [
    {
     "data": {
      "text/plain": [
       "'patrick winston: welcome 6034. know deal microphone. we\\'ll see happens. going good year. we\\'ve got [inaudible] bunch interesting people. always interesting see people named children two decades ago. find overwhelmed emilys. many peters, pauls, marys, enough call forth suitable song point. lots jesses genders. [inaudible] genders. duncan, where\\'s duncan? are, duncan. changed hairstyle. want assure use thane cawdor taking course semester. i\\'m going tell artificial intelligence today, subject about. there\\'s 10% percent turnover roster last 24 hours. expect another 10% turnover next 24 hours, too. know many sightseers, wanting know something want do. i\\'m going tell we\\'re going semester, know get here. i\\'m going walk outline. i\\'m going start talking artificial intelligence is, it. i\\'ll give little bit history artificial intelligence, conclude covenants run course. one laptops, please. i\\'ll explain covenants end. it? well, must something thinking. let\\'s start here, definition artificial intelligence, saying thinking, whatever is. definition artificial intelligence rather broad. we\\'re going say thinking. also perception, action. philosophy class, i\\'d stop right say, subject we\\'re going talk problems involving thinking, perception, action. philosophy class. course six class. engineering school class. mit class. need that. therefore we\\'re going talk models targeted thinking, perception, action. strange you, model making mit about. run someone bar, relative asks mit, right knee jerk reaction say, learned build models. that\\'s mit. build models using differential equations. build models using probabilities. build models using physical computational simulations. whatever do, build models. even humanities class, mit approach make models use explain past, predict future, understand subject, control world. that\\'s mit about. that\\'s subject about, too. now, models models thinking. might say, take classic get smarter? answer yes. get smarter. better models thinking, subject matter subject, better models thinking. models targeted thinking, perception, action. know that\\'s quite enough, order model, representation. let\\'s say artificial intelligence representations support making models facilitate understanding thinking, perception, action. might say me, well what\\'s representation? good do? i\\'d like take brief moment tell gyroscopes. many friends mechanical engineering. one best ways embarrass say here\\'s bicycle wheel. spin it, blow hard right here, edge wheel, going turn way way? guarantee they\\'ll put hand arthritic posture called right hand screw rule, aptly named people use tend get right answer 50% time. we\\'re never going make mistake again. we\\'re electrical engineers, mechanical engineers. know representation. we\\'re going we\\'re going think little bit. we\\'re going use duct tape help us think one piece wheel. want think piece wheel wheel comes flying top, blow like that. what\\'s going happen one piece? going go way, right? next piece going go way too. comes over, go way. let ground f sure. powerful feeling. try it. need demonstration. anybody think i\\'m cheating, here. let\\'s twist one way other. that\\'s powerful pull, it. alex never going get gyroscope wrong, he\\'s got right representation. much going accumulate subject suite representations help build programs intelligent. want give second example, one little bit computational. one familiar time went first grade, cases. problem farmer, fox, goose, grain. there\\'s river, leaky rowboat carry farmer, one four possessions. what\\'s right representation problem? might picture farmer. might poem situation, perhaps haiku. know right representation. somehow, get sense right representation involve something location participants scenario. might draw picture looks like this. there\\'s scenario, glorious green, representing algae infested rivers river. here\\'s farmer, fox, goose, grain. initial situation. situations like one, example. river, farmer, goose side. fox grain side. know farmer execute movement one situation another. we\\'re getting somewhere problem. mit approach farmer, fox, goose, grain problem. might stumped little kid. many situations there? think, tanya? looks like four individuals one side other. every position farmer be, things either side river. would two fourth says aggressively without hesitation. yes, two fourth, 16 possibilities. could actually draw entire graph. small enough. there\\'s another position farmer, fox, goose, grain. fact that\\'s one want. draw entire graph, looks like this. graph situations allowed connections them. 16? other-- many got? four? 10? others situations somebody gets eaten. want go places. got representation, something magical happened. we\\'ve got constraints exposed. that\\'s build representations. that\\'s whey algebra high school, algebraic notation exposes constraints make possible actually figure many customers get number advertisements place newspaper. artificial intelligence constraints exposed representations support models targeted thinking-- actually there\\'s one thing, too. quite done. all, end, build programs. algorithms enabled constraints exposed representations model targeted thinking, perception, action. algorithms, might call well procedures, might call well methods, whatever like. stuff artificial intelligence about-- methods, algorithms, representations. i\\'d like give one example. something call, artificial intelligence, generated test. simple idea, never hear subject. idea need add repertoire problem solving methods, techniques, procedures, algorithms. here\\'s works. maybe explain best starting example. here\\'s tree leaf picked tree way class. hope last species. it, kind tree? know. never learn trees, colors, multiplication tables. go back book, audubon society field guide north american trees. would solve problem? pretty simple. turn pages one time, find something looks like leaf. discover sycamore, something. mit\\'s full them. that, something intuitive, natural, something time. we\\'re going give name. we\\'re going call generate test. generate test method consists generating possible solutions, feeding box tests them, side comes mostly failures. every get something succeeds pleases us. that\\'s leaf. name it. name something, get power it. start talk it. say, generate test approach problem, better build generator certain properties make generators good. example, redundant. give solution twice. informable. able absorb information as, deciduous tree. bother looking conifers. name something, start talking about. vocabulary gives power. call rumpelstiltskin principle perhaps first powerful ideas day. subject full powerful ideas. every class. rumpelstiltskin principle says name something, get power it. know little thing end shoelace? interesting. gesturing like mad. that\\'s something we\\'ll talk later, too-- motor stuff, helps us think. it? one knows? ag something, right? aglet, good. name, start talk about. say purpose aglet pretty much like whipping end rope. keeps thing unwinding. place hang knowledge. we\\'re talking frequently rest semester, power able name things. symbolic labels give us power concepts. we\\'re also say simple idea, generate test. might tempted say someone, learned generate test today. trivial idea. word trivial word would like purge vocabulary, dangerous label. reason dangerous there\\'s difference trivial simple. it? what\\'s difference labeling something trivial calling simple? yes? exactly so. says simple powerful, trivial makes sound like simple, little worth. many mit people miss opportunities, tendency think ideas important unless they\\'re complicated. simple ideas artificial intelligence often powerful. could teach artificial intelligence course would full mathematics would make course 18 professor gag. ideas would merely gratuitously complicated, gratuitously mathematical, gratuitously simple. simple ideas often powerful. far? talked definition. talked example method. showed representation, perhaps also talked first idea, too. got representation right, often almost done. representation, immediately see two solutions problem, something occurred us little kids, think draw [? state ?] diagram. there\\'s still one thing. past, places, artificial intelligence often taught purely reasoning. solve problems eyes, well symbolic apparatus. solved problem eyes. like reinforce giving little puzzle. let\\'s see, who\\'s here? see [? kambe, ?] i\\'ll bet he\\'s africa. anyone africa? one\\'s africa? no? well much better-- would know answer puzzle. here\\'s puzzle. many countries africa equator cross? would anybody willing stake life answer? probably not. well, let repeat question. many countries africa equator cross? yeah, six. happened miracle. miracle communicated language, language system commanded visual system execute program involves scanning across line, counting go. vision system came back language system said, six. miracle. without understanding miracle, we\\'ll never full understanding nature intelligence. kind problem solving kind problem solving wish could teach lot it. can\\'t teach stuff understand. [inaudible] that. that\\'s little bit definition examples. what\\'s for? deal quickly. we\\'re engineers, building smarter programs. building tool kit representations methods make possible build smarter programs. find, days, can\\'t build big system without embedded somewhere ideas talk subject. scientist, there\\'s somewhat different motivation. amounts studying sorts things. scientist, interested enables us build computational account intelligence. that\\'s part do. subject going part, part makes possible build smarter programs. makes us different chimpanzees share enormous fraction dna. used thought share 95% dna chimpanzees. went 98. thank god stopped there. actually went back little bit. think we\\'re back 94. talk little bit history ai, see got today? also history ai tells little bit learn course. started lady lovelace, world\\'s first programmer, wrote programs 100 years computers run them. interesting even 1842, people hassling whether computers could get really smart. said, \"the analytical engine pretensions originate anything. whatever know order perform.\" screwball idea persists day. nevertheless, origin all. beginning discussions. nothing much happened 1950, alan turing wrote famous paper, introduced turing test. course, alan turing previously second world war breaking german code, ultra code, british government rewarded driving suicide, happened homosexual. turing wrote paper 1950, first milestone lady lovelace\\'s comment 1842. modern era really began paper written marvin minsky 1960, titled \"steps toward artificial intelligence.\" long jim [? slagle, ?] nearly blind graduate student, wrote program symbolic integration. adding area curve, symbolic integration like learn high school freshman. monday, we\\'re going talk program. going understand exactly works. write one yourself. we\\'re going reach way back time look program because, one day discussing it, talking it, miniature artificial intelligence course. rich important ideas. that\\'s dawn age, early dawn age. age speculation, dawn age here. early dawn age integration program took world storm. everybody knows integration. someone, everyone, thought integration today, rest intelligence figured tomorrow. bad side work way. here\\'s another dawn age program, eliza [? thing ?]. imagine prefer demonstration reading it, right? prefer demonstration? let\\'s see demonstrate it. left hamentashen debate couple years ago. spell hamentashen, anybody know? sure hope that\\'s right. matter. something interesting come. ok, choice. teal? burton house? teal. that\\'s dawn age ai. one ever took stuff seriously, except fun [inaudible] project level thing work matching programs, on. integration program serious. one wasn\\'t. serious, programs geometric analogy, problems kind find intelligence tests. answer this? b c what? would 2, guess. what\\'s second best answer? theories program solve problems pretty much identical figured out. first case deleted inside figure. second case is, reason got four deleted outside part grew inside part. there\\'s another one. think hardest one got, easiest one get. i\\'ve forgotten. b c 3. late dawn age, began turn attention purely symbolic reasoning thinking little bit perceptual apparatus. programs written could figure nature shapes forms, that. interesting programs kind difficulty do. now, deleted edges, everything becomes ambiguous. may series platforms, may series of-- see saw blade sticking go reversal? programs written could learn small number examples. many people think computer learning involving leading neural net submission thousands trials. programs written early dawn age learned arch something flat part top, two sides can\\'t touch, top may may wedge. late dawn age, though, important thing, perhaps, look wednesday next. rule-based expert systems. program written stanford diagnosis bacterial infections blood. turned better doctors, general practitioners. never used, curiously enough. nobody cares problem actually is. give broad spectrum antibiotic kill everything. late dawn age system, so-called [inaudible] system, system launched thousand companies, people started building expert systems built technology. here\\'s know used, used behalf. go through, example, atlanta airport, airplane parked rule-based expert system knows park aircraft effectively. saves delta airlines $0.5 million day jet fuel smarter park them. that\\'s example expert system little bit good lot people. there\\'s deep blue. takes us next stage beyond age expert systems, business age. takes us age here, call bulldozer age, time people began see disposal unlimited amounts computing. frequently substitute computing intelligence. one would say deep blue anything like human chess master does. nevertheless, deep blue, processing data like bulldozer processes gravel, able beat world champion. what\\'s right way? that\\'s age we\\'re right now. course inducing programs ages go subject. question age we\\'re right now. always dangerous name age it, guess. like call age right way. age begin realize definition actually little incomplete, much intelligence thinking, perception, action acting separately, loops tie together. one example africa. here\\'s another example drawn program development, continues be, laboratory. we\\'re going ask system imagine something. system: ok. imagine ball falls bowl. ok. imagine man runs woman. patrick winston: see, best good memory situations actually involve. imagined scene then-- system: yes. learned experience contact man woman appeared man runs woman. patrick winston: imagined scene, read answers using visual apparatus scene imagined. like africa, working visual memory, using visual programs. system: ok. imagine man gives ball man. patrick winston: know looks like slugs, they\\'re actually distinguished professors. always best can. system: ok. imagine man flies. patrick winston: best do. concludes discussion history. i\\'ve provided little bit glimpse we\\'re going look semester unfolds. yes, chris? chris: actually demonstration something? large database videos? patrick winston: no, small database videos. chris: intelligently picking among based on-- patrick winston: based content. say imagine student gave ball another student, imagines that. say, student ball? student take ball? answer questions review video see take well give video. think ought optimistic future. we\\'ve long history here, solved problem. one reason feel optimistic future friends march. friends include cognitive psychologists, [? developmental ?] psychologists, linguists, sometimes philosophers, especially paleoanthropologists. becoming increasingly clear we\\'re actually different chimpanzees, got way. high school idea evolved slow, gradual, continuous improvement. seem way happened. characteristics species informative comes guiding activities people like me. here\\'s story seems fossil record. first all, humans around maybe 200,000 years present anatomical form. someone walked door right 200,000 years ago, imagine would dirty, that-- probably naked, too-- that, able tell difference, especially mit. ensuing 150,000 years period humans actually amount much. somehow, shortly 50,000 years ago, small group us developed capability separated us species. accident evolution. accidents may may happen, happened produce us. also case probably necked species thousand, maybe even hundred individuals, something made accidental changes, accidental evolutionary products, capable sticking. leads us speculate happened 50,000 years ago. paleoanthropologists, noam chomsky, lot people reached similar conclusions. conclusion is-- i\\'ll quote chomsky. he\\'s voice authority. \"it seems shortly 50,000 years ago, small group us acquired ability take two concepts, combine make third concept, without disturbing original two concepts, without limit.\" perspective ai person like me, chomsky seems saying is, learned begin describe things, way intimately connected language. that, end, separates us chimpanzees. might say, well let\\'s study language. no, can\\'t that, think eyes. language two things. number one, enables us make descriptions. descriptions enable us tell stories. storytelling story understanding education about. that\\'s going up. going enables us marshal resources perceptual systems, even command perceptual systems imagine things we\\'ve never seen. here\\'s example. imagine running street full bucket water. happens? leg gets wet. water sloshes out. never find fact anywhere web. probably never told that\\'s happens run street full bucket water. easily imagine scenario, know what\\'s going happen. internal imagination simulation. we\\'re never going understand human intelligence understand that. here\\'s another example. imagine running street full bucket nickels? happens? nickels weigh lot. going bent over. going stagger. nobody ever told that. find anywhere web. language center things enables storytelling going up, marshalling resources perceptual apparatus, going down. that\\'s we\\'re going finish subject semester, trying understand phenomenon. concludes everything wanted say material subject. want turn attention little bit going operate subject. many characteristics subject confusing. first all, four kinds activities course. different purpose. lectures. lectures supposed hour introducing material big picture. they\\'re powerful ideas. they\\'re experience side course. let step aside make remark. mit two things. skill building, big ideas. build skill home, dartmouth, harvard, princeton, kinds places. experience get mit. know everybody know artificial intelligence. tell think. tell think. that\\'s something going get place. that\\'s role, see it, giving lectures. recitations four buttressing expanding material, providing venue that\\'s small enough discussion. mega recitations [? usual ?] components course. they\\'re taught hour fridays. mark seifter, graduate student, teaching those. wrapped around past quiz problems. mark show work them. important component subject. finally tutorials helping homework. might say me, well, really need go class? like say answer is, like pass subject. mit students. mit people always like look data. scattergram made subject taught last fall, shows relationship attendance lectures grades awarded course. sure means, here\\'s regression line. information little suspect two reasons, one asked people self report many lectures thought attended. mechanism assigning numerical grades little weird. there\\'s third thing, too, is, one must never confuse correlation cause. think explanations trend line goes up, different whether something lectures producing good grades. might ask feel people upper left hand corner. one two people near top subject go class all. mixed feelings that. adults. call. hand, wish that\\'s habitually subjects take mit, would resign go somewhere else, let somebody else take slot. benefiting powerful ideas, kinds things involve interaction faculty. done. recommend it. way, four activities show similar regression lines. five point scale? let explain works you. love people ask us class average quiz. that\\'s get use blank stare. idea class average ever quiz. here\\'s do. like everybody else, start score zero 100. say ourselves, score would get thorough understanding material? say, well, particular exam, number right here. score would get good understanding material? that\\'s score. happens following edge range think need work. is, say range here-- following mit convention gpas stuff, gets five. range here, there\\'s sharp drop four. range here, there\\'s sharp fall three. means middle one plateaus there\\'s point arguing this. going good. boundaries think performance break points are. say, well seems little harsh. blah, blah, blah, blah, blah, start arguing. come back second major innovation course. grade calculated several parts. part one max grade q1, part one final. words, get two shots everything. complete glorious undeniable horrible f first quiz, gets erased final well part final. quiz corresponding mirror final. get max score got two pieces. say me, i\\'m mit student. lot guts. i\\'m going take final. done. recommend it. reason recommend expect everybody final. would lot time pressure final, five parts final. four quizzes. final fifth part there\\'s material teach last date give final institute rules. that\\'s roughly works. read details faq subject homepage. we\\'re almost done. want talk little bit we\\'re going communicate next days, we\\'re getting organized. so, number one-- could ask tas help pass out-- need schedule tutorials. we\\'re going ask fill form, give us leave. hearing us sort. there\\'s issue whether we\\'re going ordinary recitation mega recitation week. pay attention. otherwise, going stranded classroom nothing do. we\\'re going regular recitations week. regular recitation week, [inaudible]? no. may, probably will, mega recitation week that\\'s devoted python review. know many celebrating religious holiday friday, putting lot resources online get review another way. probably python review friday. ask look home page information week progresses. that\\'s folks. concludes we\\'re going today. soon give us form, we\\'re through.'"
      ]
     },
     "execution_count": 18,
     "metadata": {},
     "output_type": "execute_result"
    }
   ],
   "source": [
    "data['Transcript_Without_Stopword'][0]"
   ]
  },
  {
   "cell_type": "code",
   "execution_count": 19,
   "id": "478656dc",
   "metadata": {},
   "outputs": [
    {
     "data": {
      "text/plain": [
       "'patrick winston: welcome 6034. know deal microphone. we\\'ll see happens. going good year. we\\'ve got [inaudible] bunch interesting people. always interesting see people named child two decade ago. find overwhelmed emilys. many peters, pauls, marys, enough call forth suitable song point. lot jesses genders. [inaudible] genders. duncan, where\\'s duncan? are, duncan. changed hairstyle. want assure use thane cawdor taking course semester. i\\'m going tell artificial intelligence today, subject about. there\\'s 10% percent turnover roster last 24 hours. expect another 10% turnover next 24 hours, too. know many sightseers, wanting know something want do. i\\'m going tell we\\'re going semester, know get here. i\\'m going walk outline. i\\'m going start talking artificial intelligence is, it. i\\'ll give little bit history artificial intelligence, conclude covenant run course. one laptops, please. i\\'ll explain covenant end. it? well, must something thinking. let\\'s start here, definition artificial intelligence, saying thinking, whatever is. definition artificial intelligence rather broad. we\\'re going say thinking. also perception, action. philosophy class, i\\'d stop right say, subject we\\'re going talk problem involving thinking, perception, action. philosophy class. course six class. engineering school class. mit class. need that. therefore we\\'re going talk model targeted thinking, perception, action. strange you, model making mit about. run someone bar, relative asks mit, right knee jerk reaction say, learned build models. that\\'s mit. build model using differential equations. build model using probabilities. build model using physical computational simulations. whatever do, build models. even humanity class, mit approach make model use explain past, predict future, understand subject, control world. that\\'s mit about. that\\'s subject about, too. now, model model thinking. might say, take classic get smarter? answer yes. get smarter. better model thinking, subject matter subject, better model thinking. model targeted thinking, perception, action. know that\\'s quite enough, order model, representation. let\\'s say artificial intelligence representation support making model facilitate understanding thinking, perception, action. might say me, well what\\'s representation? good do? i\\'d like take brief moment tell gyroscopes. many friend mechanical engineering. one best way embarrass say here\\'s bicycle wheel. spin it, blow hard right here, edge wheel, going turn way way? guarantee they\\'ll put hand arthritic posture called right hand screw rule, aptly named people use tend get right answer 50% time. we\\'re never going make mistake again. we\\'re electrical engineers, mechanical engineers. know representation. we\\'re going we\\'re going think little bit. we\\'re going use duct tape help u think one piece wheel. want think piece wheel wheel come flying top, blow like that. what\\'s going happen one piece? going go way, right? next piece going go way too. come over, go way. let ground f sure. powerful feeling. try it. need demonstration. anybody think i\\'m cheating, here. let\\'s twist one way other. that\\'s powerful pull, it. alex never going get gyroscope wrong, he\\'s got right representation. much going accumulate subject suite representation help build program intelligent. want give second example, one little bit computational. one familiar time went first grade, cases. problem farmer, fox, goose, grain. there\\'s river, leaky rowboat carry farmer, one four possessions. what\\'s right representation problem? might picture farmer. might poem situation, perhaps haiku. know right representation. somehow, get sense right representation involve something location participant scenario. might draw picture look like this. there\\'s scenario, glorious green, representing algae infested river river. here\\'s farmer, fox, goose, grain. initial situation. situation like one, example. river, farmer, goose side. fox grain side. know farmer execute movement one situation another. we\\'re getting somewhere problem. mit approach farmer, fox, goose, grain problem. might stumped little kid. many situation there? think, tanya? look like four individual one side other. every position farmer be, thing either side river. would two fourth say aggressively without hesitation. yes, two fourth, 16 possibilities. could actually draw entire graph. small enough. there\\'s another position farmer, fox, goose, grain. fact that\\'s one want. draw entire graph, look like this. graph situation allowed connection them. 16? other-- many got? four? 10? others situation somebody get eaten. want go places. got representation, something magical happened. we\\'ve got constraint exposed. that\\'s build representations. that\\'s whey algebra high school, algebraic notation expose constraint make possible actually figure many customer get number advertisement place newspaper. artificial intelligence constraint exposed representation support model targeted thinking-- actually there\\'s one thing, too. quite done. all, end, build programs. algorithm enabled constraint exposed representation model targeted thinking, perception, action. algorithms, might call well procedures, might call well methods, whatever like. stuff artificial intelligence about-- methods, algorithms, representations. i\\'d like give one example. something call, artificial intelligence, generated test. simple idea, never hear subject. idea need add repertoire problem solving methods, techniques, procedures, algorithms. here\\'s works. maybe explain best starting example. here\\'s tree leaf picked tree way class. hope last species. it, kind tree? know. never learn trees, colors, multiplication tables. go back book, audubon society field guide north american trees. would solve problem? pretty simple. turn page one time, find something look like leaf. discover sycamore, something. mit\\'s full them. that, something intuitive, natural, something time. we\\'re going give name. we\\'re going call generate test. generate test method consists generating possible solutions, feeding box test them, side come mostly failures. every get something succeeds plea us. that\\'s leaf. name it. name something, get power it. start talk it. say, generate test approach problem, better build generator certain property make generator good. example, redundant. give solution twice. informable. able absorb information as, deciduous tree. bother looking conifers. name something, start talking about. vocabulary give power. call rumpelstiltskin principle perhaps first powerful idea day. subject full powerful ideas. every class. rumpelstiltskin principle say name something, get power it. know little thing end shoelace? interesting. gesturing like mad. that\\'s something we\\'ll talk later, too-- motor stuff, help u think. it? one knows? ag something, right? aglet, good. name, start talk about. say purpose aglet pretty much like whipping end rope. keep thing unwinding. place hang knowledge. we\\'re talking frequently rest semester, power able name things. symbolic label give u power concepts. we\\'re also say simple idea, generate test. might tempted say someone, learned generate test today. trivial idea. word trivial word would like purge vocabulary, dangerous label. reason dangerous there\\'s difference trivial simple. it? what\\'s difference labeling something trivial calling simple? yes? exactly so. say simple powerful, trivial make sound like simple, little worth. many mit people miss opportunities, tendency think idea important unless they\\'re complicated. simple idea artificial intelligence often powerful. could teach artificial intelligence course would full mathematics would make course 18 professor gag. idea would merely gratuitously complicated, gratuitously mathematical, gratuitously simple. simple idea often powerful. far? talked definition. talked example method. showed representation, perhaps also talked first idea, too. got representation right, often almost done. representation, immediately see two solution problem, something occurred u little kids, think draw [? state ?] diagram. there\\'s still one thing. past, places, artificial intelligence often taught purely reasoning. solve problem eyes, well symbolic apparatus. solved problem eyes. like reinforce giving little puzzle. let\\'s see, who\\'s here? see [? kambe, ?] i\\'ll bet he\\'s africa. anyone africa? one\\'s africa? no? well much better-- would know answer puzzle. here\\'s puzzle. many country africa equator cross? would anybody willing stake life answer? probably not. well, let repeat question. many country africa equator cross? yeah, six. happened miracle. miracle communicated language, language system commanded visual system execute program involves scanning across line, counting go. vision system came back language system said, six. miracle. without understanding miracle, we\\'ll never full understanding nature intelligence. kind problem solving kind problem solving wish could teach lot it. can\\'t teach stuff understand. [inaudible] that. that\\'s little bit definition examples. what\\'s for? deal quickly. we\\'re engineers, building smarter programs. building tool kit representation method make possible build smarter programs. find, days, can\\'t build big system without embedded somewhere idea talk subject. scientist, there\\'s somewhat different motivation. amount studying sort things. scientist, interested enables u build computational account intelligence. that\\'s part do. subject going part, part make possible build smarter programs. make u different chimpanzee share enormous fraction dna. used thought share 95% dna chimpanzees. went 98. thank god stopped there. actually went back little bit. think we\\'re back 94. talk little bit history ai, see got today? also history ai tell little bit learn course. started lady lovelace, world\\'s first programmer, wrote program 100 year computer run them. interesting even 1842, people hassling whether computer could get really smart. said, \"the analytical engine pretension originate anything. whatever know order perform.\" screwball idea persists day. nevertheless, origin all. beginning discussions. nothing much happened 1950, alan turing wrote famous paper, introduced turing test. course, alan turing previously second world war breaking german code, ultra code, british government rewarded driving suicide, happened homosexual. turing wrote paper 1950, first milestone lady lovelace\\'s comment 1842. modern era really began paper written marvin minsky 1960, titled \"steps toward artificial intelligence.\" long jim [? slagle, ?] nearly blind graduate student, wrote program symbolic integration. adding area curve, symbolic integration like learn high school freshman. monday, we\\'re going talk program. going understand exactly works. write one yourself. we\\'re going reach way back time look program because, one day discussing it, talking it, miniature artificial intelligence course. rich important ideas. that\\'s dawn age, early dawn age. age speculation, dawn age here. early dawn age integration program took world storm. everybody know integration. someone, everyone, thought integration today, rest intelligence figured tomorrow. bad side work way. here\\'s another dawn age program, eliza [? thing ?]. imagine prefer demonstration reading it, right? prefer demonstration? let\\'s see demonstrate it. left hamentashen debate couple year ago. spell hamentashen, anybody know? sure hope that\\'s right. matter. something interesting come. ok, choice. teal? burton house? teal. that\\'s dawn age ai. one ever took stuff seriously, except fun [inaudible] project level thing work matching programs, on. integration program serious. one wasn\\'t. serious, program geometric analogy, problem kind find intelligence tests. answer this? b c what? would 2, guess. what\\'s second best answer? theory program solve problem pretty much identical figured out. first case deleted inside figure. second case is, reason got four deleted outside part grew inside part. there\\'s another one. think hardest one got, easiest one get. i\\'ve forgotten. b c 3. late dawn age, began turn attention purely symbolic reasoning thinking little bit perceptual apparatus. program written could figure nature shape forms, that. interesting program kind difficulty do. now, deleted edges, everything becomes ambiguous. may series platforms, may series of-- see saw blade sticking go reversal? program written could learn small number examples. many people think computer learning involving leading neural net submission thousand trials. program written early dawn age learned arch something flat part top, two side can\\'t touch, top may may wedge. late dawn age, though, important thing, perhaps, look wednesday next. rule-based expert systems. program written stanford diagnosis bacterial infection blood. turned better doctors, general practitioners. never used, curiously enough. nobody care problem actually is. give broad spectrum antibiotic kill everything. late dawn age system, so-called [inaudible] system, system launched thousand companies, people started building expert system built technology. here\\'s know used, used behalf. go through, example, atlanta airport, airplane parked rule-based expert system know park aircraft effectively. save delta airline $0.5 million day jet fuel smarter park them. that\\'s example expert system little bit good lot people. there\\'s deep blue. take u next stage beyond age expert systems, business age. take u age here, call bulldozer age, time people began see disposal unlimited amount computing. frequently substitute computing intelligence. one would say deep blue anything like human chess master does. nevertheless, deep blue, processing data like bulldozer process gravel, able beat world champion. what\\'s right way? that\\'s age we\\'re right now. course inducing program age go subject. question age we\\'re right now. always dangerous name age it, guess. like call age right way. age begin realize definition actually little incomplete, much intelligence thinking, perception, action acting separately, loop tie together. one example africa. here\\'s another example drawn program development, continues be, laboratory. we\\'re going ask system imagine something. system: ok. imagine ball fall bowl. ok. imagine man run woman. patrick winston: see, best good memory situation actually involve. imagined scene then-- system: yes. learned experience contact man woman appeared man run woman. patrick winston: imagined scene, read answer using visual apparatus scene imagined. like africa, working visual memory, using visual programs. system: ok. imagine man give ball man. patrick winston: know look like slugs, they\\'re actually distinguished professors. always best can. system: ok. imagine man flies. patrick winston: best do. concludes discussion history. i\\'ve provided little bit glimpse we\\'re going look semester unfolds. yes, chris? chris: actually demonstration something? large database videos? patrick winston: no, small database videos. chris: intelligently picking among based on-- patrick winston: based content. say imagine student gave ball another student, imago that. say, student ball? student take ball? answer question review video see take well give video. think ought optimistic future. we\\'ve long history here, solved problem. one reason feel optimistic future friend march. friend include cognitive psychologists, [? developmental ?] psychologists, linguists, sometimes philosophers, especially paleoanthropologists. becoming increasingly clear we\\'re actually different chimpanzees, got way. high school idea evolved slow, gradual, continuous improvement. seem way happened. characteristic specie informative come guiding activity people like me. here\\'s story seems fossil record. first all, human around maybe 200,000 year present anatomical form. someone walked door right 200,000 year ago, imagine would dirty, that-- probably naked, too-- that, able tell difference, especially mit. ensuing 150,000 year period human actually amount much. somehow, shortly 50,000 year ago, small group u developed capability separated u species. accident evolution. accident may may happen, happened produce us. also case probably necked specie thousand, maybe even hundred individuals, something made accidental changes, accidental evolutionary products, capable sticking. lead u speculate happened 50,000 year ago. paleoanthropologists, noam chomsky, lot people reached similar conclusions. conclusion is-- i\\'ll quote chomsky. he\\'s voice authority. \"it seems shortly 50,000 year ago, small group u acquired ability take two concepts, combine make third concept, without disturbing original two concepts, without limit.\" perspective ai person like me, chomsky seems saying is, learned begin describe things, way intimately connected language. that, end, separate u chimpanzees. might say, well let\\'s study language. no, can\\'t that, think eyes. language two things. number one, enables u make descriptions. description enable u tell stories. storytelling story understanding education about. that\\'s going up. going enables u marshal resource perceptual systems, even command perceptual system imagine thing we\\'ve never seen. here\\'s example. imagine running street full bucket water. happens? leg get wet. water sloshes out. never find fact anywhere web. probably never told that\\'s happens run street full bucket water. easily imagine scenario, know what\\'s going happen. internal imagination simulation. we\\'re never going understand human intelligence understand that. here\\'s another example. imagine running street full bucket nickels? happens? nickel weigh lot. going bent over. going stagger. nobody ever told that. find anywhere web. language center thing enables storytelling going up, marshalling resource perceptual apparatus, going down. that\\'s we\\'re going finish subject semester, trying understand phenomenon. concludes everything wanted say material subject. want turn attention little bit going operate subject. many characteristic subject confusing. first all, four kind activity course. different purpose. lectures. lecture supposed hour introducing material big picture. they\\'re powerful ideas. they\\'re experience side course. let step aside make remark. mit two things. skill building, big ideas. build skill home, dartmouth, harvard, princeton, kind places. experience get mit. know everybody know artificial intelligence. tell think. tell think. that\\'s something going get place. that\\'s role, see it, giving lectures. recitation four buttressing expanding material, providing venue that\\'s small enough discussion. mega recitation [? usual ?] component course. they\\'re taught hour fridays. mark seifter, graduate student, teaching those. wrapped around past quiz problems. mark show work them. important component subject. finally tutorial helping homework. might say me, well, really need go class? like say answer is, like pas subject. mit students. mit people always like look data. scattergram made subject taught last fall, show relationship attendance lecture grade awarded course. sure means, here\\'s regression line. information little suspect two reasons, one asked people self report many lecture thought attended. mechanism assigning numerical grade little weird. there\\'s third thing, too, is, one must never confuse correlation cause. think explanation trend line go up, different whether something lecture producing good grades. might ask feel people upper left hand corner. one two people near top subject go class all. mixed feeling that. adults. call. hand, wish that\\'s habitually subject take mit, would resign go somewhere else, let somebody else take slot. benefiting powerful ideas, kind thing involve interaction faculty. done. recommend it. way, four activity show similar regression lines. five point scale? let explain work you. love people ask u class average quiz. that\\'s get use blank stare. idea class average ever quiz. here\\'s do. like everybody else, start score zero 100. say ourselves, score would get thorough understanding material? say, well, particular exam, number right here. score would get good understanding material? that\\'s score. happens following edge range think need work. is, say range here-- following mit convention gpa stuff, get five. range here, there\\'s sharp drop four. range here, there\\'s sharp fall three. mean middle one plateau there\\'s point arguing this. going good. boundary think performance break point are. say, well seems little harsh. blah, blah, blah, blah, blah, start arguing. come back second major innovation course. grade calculated several parts. part one max grade q1, part one final. words, get two shot everything. complete glorious undeniable horrible f first quiz, get erased final well part final. quiz corresponding mirror final. get max score got two pieces. say me, i\\'m mit student. lot guts. i\\'m going take final. done. recommend it. reason recommend expect everybody final. would lot time pressure final, five part final. four quizzes. final fifth part there\\'s material teach last date give final institute rules. that\\'s roughly works. read detail faq subject homepage. we\\'re almost done. want talk little bit we\\'re going communicate next days, we\\'re getting organized. so, number one-- could ask ta help pas out-- need schedule tutorials. we\\'re going ask fill form, give u leave. hearing u sort. there\\'s issue whether we\\'re going ordinary recitation mega recitation week. pay attention. otherwise, going stranded classroom nothing do. we\\'re going regular recitation week. regular recitation week, [inaudible]? no. may, probably will, mega recitation week that\\'s devoted python review. know many celebrating religious holiday friday, putting lot resource online get review another way. probably python review friday. ask look home page information week progresses. that\\'s folks. concludes we\\'re going today. soon give u form, we\\'re through.'"
      ]
     },
     "execution_count": 19,
     "metadata": {},
     "output_type": "execute_result"
    }
   ],
   "source": [
    "data['Transcript_Lemmantized'][0]"
   ]
  },
  {
   "cell_type": "code",
   "execution_count": 20,
   "id": "71cdc46e",
   "metadata": {},
   "outputs": [],
   "source": [
    "data.to_csv('pre-processed_data.csv')"
   ]
  },
  {
   "cell_type": "code",
   "execution_count": null,
   "id": "5293883c",
   "metadata": {},
   "outputs": [],
   "source": []
  }
 ],
 "metadata": {
  "kernelspec": {
   "display_name": "Python 3 (ipykernel)",
   "language": "python",
   "name": "python3"
  },
  "language_info": {
   "codemirror_mode": {
    "name": "ipython",
    "version": 3
   },
   "file_extension": ".py",
   "mimetype": "text/x-python",
   "name": "python",
   "nbconvert_exporter": "python",
   "pygments_lexer": "ipython3",
   "version": "3.9.12"
  }
 },
 "nbformat": 4,
 "nbformat_minor": 5
}
